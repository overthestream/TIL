{
 "metadata": {
  "language_info": {
   "codemirror_mode": {
    "name": "ipython",
    "version": 3
   },
   "file_extension": ".py",
   "mimetype": "text/x-python",
   "name": "python",
   "nbconvert_exporter": "python",
   "pygments_lexer": "ipython3",
   "version": "3.8.8-final"
  },
  "orig_nbformat": 2,
  "kernelspec": {
   "name": "virtual",
   "display_name": "AlgoTradeVirtual",
   "language": "python"
  }
 },
 "nbformat": 4,
 "nbformat_minor": 2,
 "cells": [
  {
   "cell_type": "code",
   "execution_count": 1,
   "metadata": {},
   "outputs": [],
   "source": [
    "import numpy as np \n",
    "from keras.models import Sequential\n",
    "from keras.layers import Dense"
   ]
  },
  {
   "cell_type": "code",
   "execution_count": 2,
   "metadata": {},
   "outputs": [],
   "source": [
    "data = np.random.random((1000,100)) # 전체 데이터셋 생성\n",
    "labels = np.random.randint(2, size=(1000,1)) # 레이블 데이터를 생성 (0과 1로 나뉘도록)"
   ]
  },
  {
   "cell_type": "code",
   "execution_count": 8,
   "metadata": {},
   "outputs": [],
   "source": [
    "model = Sequential() # Sequential 객체를 받아 모델을 만듦 \n",
    "\n",
    "model.add(Dense(32, activation = 'relu', input_dim=100))\n",
    "'''\n",
    "model 인스턴스의 add 함수를 호출해 순차적으로 층을 추가함\n",
    "Dense 객체는 완전 연결층을 의미\n",
    "'''\n",
    "\n",
    "model.add(Dense(1, activation = 'sigmoid')) # 최종 출력층을 정의함 "
   ]
  },
  {
   "cell_type": "code",
   "execution_count": 9,
   "metadata": {},
   "outputs": [],
   "source": [
    "model.compile(optimizer = 'rmsprop', loss= 'binary_crossentropy', metrics=['accuracy']) # 학습 방식 설정"
   ]
  },
  {
   "cell_type": "code",
   "execution_count": 11,
   "metadata": {},
   "outputs": [
    {
     "output_type": "stream",
     "name": "stdout",
     "text": [
      "Epoch 1/10\n",
      "32/32 [==============================] - 0s 668us/step - loss: 0.7325 - accuracy: 0.5047\n",
      "Epoch 2/10\n",
      "32/32 [==============================] - 0s 633us/step - loss: 0.7015 - accuracy: 0.5050\n",
      "Epoch 3/10\n",
      "32/32 [==============================] - 0s 674us/step - loss: 0.6909 - accuracy: 0.5339\n",
      "Epoch 4/10\n",
      "32/32 [==============================] - 0s 655us/step - loss: 0.6932 - accuracy: 0.5190\n",
      "Epoch 5/10\n",
      "32/32 [==============================] - 0s 635us/step - loss: 0.6890 - accuracy: 0.5196\n",
      "Epoch 6/10\n",
      "32/32 [==============================] - 0s 632us/step - loss: 0.6794 - accuracy: 0.5485\n",
      "Epoch 7/10\n",
      "32/32 [==============================] - 0s 636us/step - loss: 0.6806 - accuracy: 0.5498\n",
      "Epoch 8/10\n",
      "32/32 [==============================] - 0s 620us/step - loss: 0.6693 - accuracy: 0.5926\n",
      "Epoch 9/10\n",
      "32/32 [==============================] - 0s 805us/step - loss: 0.6730 - accuracy: 0.5800\n",
      "Epoch 10/10\n",
      "32/32 [==============================] - 0s 883us/step - loss: 0.6702 - accuracy: 0.5977\n"
     ]
    }
   ],
   "source": [
    "history = model.fit(data, labels, epochs=10, batch_size=32)"
   ]
  },
  {
   "cell_type": "code",
   "execution_count": 12,
   "metadata": {},
   "outputs": [],
   "source": [
    "predictions=model.predict(data)"
   ]
  },
  {
   "cell_type": "code",
   "execution_count": null,
   "metadata": {},
   "outputs": [],
   "source": []
  }
 ]
}
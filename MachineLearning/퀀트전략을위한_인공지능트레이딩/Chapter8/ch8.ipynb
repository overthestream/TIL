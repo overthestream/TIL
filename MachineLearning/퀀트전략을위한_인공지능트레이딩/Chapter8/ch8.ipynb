{
 "metadata": {
  "language_info": {
   "codemirror_mode": {
    "name": "ipython",
    "version": 3
   },
   "file_extension": ".py",
   "mimetype": "text/x-python",
   "name": "python",
   "nbconvert_exporter": "python",
   "pygments_lexer": "ipython3",
   "version": "3.8.8-final"
  },
  "orig_nbformat": 2,
  "kernelspec": {
   "name": "virtual",
   "display_name": "AlgoTradeVirtual"
  }
 },
 "nbformat": 4,
 "nbformat_minor": 2,
 "cells": [
  {
   "cell_type": "code",
   "execution_count": null,
   "metadata": {},
   "outputs": [],
   "source": [
    "def createLabel(fname, seq_len):\n",
    "    print(\"Creating label...\")\n",
    "    filename = fname.split('/')\n",
    "    removeOutput(\"{}_label_{}.txt\".format(filename[1][:-4], seq_len))\n",
    "\n",
    "    df = pd.read_csv "
   ]
  }
 ]
}